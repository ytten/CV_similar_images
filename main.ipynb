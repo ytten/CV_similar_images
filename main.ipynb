{
 "cells": [
  {
   "cell_type": "code",
   "execution_count": 2,
   "metadata": {},
   "outputs": [],
   "source": [
    "import cv2 \n",
    "import tensorflow as tf \n",
    "\n"
   ]
  },
  {
   "cell_type": "code",
   "execution_count": 32,
   "metadata": {},
   "outputs": [
    {
     "name": "stdout",
     "output_type": "stream",
     "text": [
      "Found 3200 images belonging to 2 classes.\n",
      "Found 800 images belonging to 2 classes.\n",
      "Found 4000 images belonging to 2 classes.\n",
      "{'left': 0, 'right': 1}\n"
     ]
    }
   ],
   "source": [
    "from keras.preprocessing.image import ImageDataGenerator\n",
    "\n",
    "data_dir = 'ImgData' # SPECIFY YOUR PATH TO THE DATASET\n",
    "batch_size = 40\n",
    "\n",
    "# Data generator for training\n",
    "# Additional data augmentation may be added here if desired\n",
    "train_datagen = ImageDataGenerator(\n",
    "    rescale=1./255,\n",
    "    validation_split=0.2\n",
    "    # brightness_range=[0.4,1.6],\n",
    "    # horizontal_flip=True, \n",
    "    # rotation_range=25,\n",
    "    # zoom_range=.2, \n",
    ")\n",
    "\n",
    "# Data generator for test\n",
    "# DO NOT USE DATA AUGMENTATION WITH TEST SET\n",
    "test_datagen = ImageDataGenerator(\n",
    "    rescale=1./255)\n",
    "\n",
    "# Generate training data from 'train' directory\n",
    "train_data = train_datagen.flow_from_directory(\n",
    "        data_dir+'/train',\n",
    "        target_size=(200, 245),\n",
    "        batch_size=batch_size,\n",
    "        class_mode='categorical',\n",
    "        shuffle = False,\n",
    "        subset='training'\n",
    "        )\n",
    "\n",
    "# Generate training data from 'train' directory\n",
    "val_data = train_datagen.flow_from_directory(\n",
    "        data_dir+'/train',\n",
    "        target_size=(200, 245),\n",
    "        batch_size=batch_size,\n",
    "        class_mode='categorical',\n",
    "        shuffle = False,\n",
    "        subset='validation'\n",
    "        )\n",
    "\n",
    "# Generate test data from 'test' directory\n",
    "test_data = test_datagen.flow_from_directory(\n",
    "        data_dir+'/test',\n",
    "        target_size=(200, 245),\n",
    "        batch_size=batch_size,\n",
    "        class_mode='categorical',\n",
    "        shuffle = False\n",
    "        )\n",
    "\n",
    "# Output list of class names\n",
    "class_names_and_indices = train_data.class_indices\n",
    "print(class_names_and_indices)\n",
    "\n",
    "# Note: To train a model with the dataset loaded above, pass the train and val\n",
    "# datasets to the fit() function, like so:\n",
    "# myModel.fit(train_data, validation_data=val_data, ...)"
   ]
  }
 ],
 "metadata": {
  "kernelspec": {
   "display_name": "Python 3",
   "language": "python",
   "name": "python3"
  },
  "language_info": {
   "codemirror_mode": {
    "name": "ipython",
    "version": 3
   },
   "file_extension": ".py",
   "mimetype": "text/x-python",
   "name": "python",
   "nbconvert_exporter": "python",
   "pygments_lexer": "ipython3",
   "version": "3.9.13"
  },
  "orig_nbformat": 4
 },
 "nbformat": 4,
 "nbformat_minor": 2
}
